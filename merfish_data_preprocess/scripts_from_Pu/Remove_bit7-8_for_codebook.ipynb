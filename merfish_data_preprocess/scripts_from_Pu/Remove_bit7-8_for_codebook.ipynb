{
 "cells": [
  {
   "cell_type": "code",
   "execution_count": 3,
   "metadata": {},
   "outputs": [
    {
     "name": "stdout",
     "output_type": "stream",
     "text": [
      "(166, 22)\n"
     ]
    }
   ],
   "source": [
    "# regenerate codebook\n",
    "import pandas as pd\n",
    "import os\n",
    "codebook_folder = r'E:\\Users\\puzheng\\Documents\\Merfish_analysis\\Merfish_Analysis_Scripts\\merlin_parameters\\codebooks'\n",
    "codebook_df = pd.read_csv(os.path.join(codebook_folder, 'M1_codebook.csv'))\n",
    "\n",
    "bad_hybs = ['RS0247', 'RS0255']\n",
    "\n",
    "good_barcodes = (codebook_df[bad_hybs] == 0).all(1)\n",
    "\n",
    "kept_codebook_df = codebook_df.loc[good_barcodes].copy()\n",
    "\n",
    "kept_codebook_df = kept_codebook_df.drop(bad_hybs, axis=1) \n",
    "print(kept_codebook_df.shape)\n",
    "\n",
    "kept_codebook_df.to_csv(os.path.join(codebook_folder, 'M1_codebook_no_bit7-8_clean.csv'), index=False)"
   ]
  },
  {
   "cell_type": "code",
   "execution_count": null,
   "metadata": {},
   "outputs": [],
   "source": []
  }
 ],
 "metadata": {
  "kernelspec": {
   "display_name": "Python 3",
   "language": "python",
   "name": "python3"
  },
  "language_info": {
   "codemirror_mode": {
    "name": "ipython",
    "version": 3
   },
   "file_extension": ".py",
   "mimetype": "text/x-python",
   "name": "python",
   "nbconvert_exporter": "python",
   "pygments_lexer": "ipython3",
   "version": "3.7.9"
  }
 },
 "nbformat": 4,
 "nbformat_minor": 4
}
